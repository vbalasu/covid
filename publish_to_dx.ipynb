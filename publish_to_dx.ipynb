{
 "cells": [
  {
   "cell_type": "code",
   "execution_count": 18,
   "metadata": {},
   "outputs": [],
   "source": [
    "import boto3\n",
    "dx = boto3.client('dataexchange', region_name='us-east-1')"
   ]
  },
  {
   "cell_type": "code",
   "execution_count": 19,
   "metadata": {},
   "outputs": [],
   "source": [
    "s3 = boto3.client('s3')"
   ]
  },
  {
   "cell_type": "code",
   "execution_count": 20,
   "metadata": {},
   "outputs": [],
   "source": [
    "mc = boto3.client('marketplace-catalog', region_name='us-east-1')"
   ]
  },
  {
   "cell_type": "code",
   "execution_count": 21,
   "metadata": {},
   "outputs": [],
   "source": [
    "obj = s3.get_object(Bucket='trifacta-covid-trifactabucket-q1itzd5kh96', Key='case_publish_to_dx.json')"
   ]
  },
  {
   "cell_type": "code",
   "execution_count": 22,
   "metadata": {},
   "outputs": [],
   "source": [
    "import json\n",
    "config = json.load(obj['Body'])"
   ]
  },
  {
   "cell_type": "code",
   "execution_count": 23,
   "metadata": {},
   "outputs": [
    {
     "data": {
      "text/plain": [
       "{'data_set_id': 'f4257e11b4919ddfeef7f2526a870460',\n",
       " 'assets': ['trifacta/queryResults/admin@trifacta.local/CASE_DATA.csv',\n",
       "  'trifacta/queryResults/admin@trifacta.local/US_AGG.csv'],\n",
       " 'bucket': 'trifacta-covid-trifactabucket-q1itzd5kh96',\n",
       " 'product_id': 'prod-fpr76dnjiujpu'}"
      ]
     },
     "execution_count": 23,
     "metadata": {},
     "output_type": "execute_result"
    }
   ],
   "source": [
    "config"
   ]
  },
  {
   "cell_type": "code",
   "execution_count": 25,
   "metadata": {},
   "outputs": [],
   "source": [
    "def publish_to_dx(config):\n",
    "    import boto3, time, datetime, json\n",
    "    region = 'us-east-1'\n",
    "    data_set_id = config['data_set_id']\n",
    "    product_id = config['product_id']\n",
    "    \n",
    "    dataexchange = boto3.client(service_name='dataexchange', region_name=region)\n",
    "    marketplace_catalog = boto3.client(service_name='marketplace-catalog', region_name=region)\n",
    "\n",
    "    # parse the s3 details from the triggered event\n",
    "    bucket_name = config['bucket']\n",
    "    assets = config['assets']\n",
    "\n",
    "    # CREATE REVISION under the dataset provided as an environment variable\n",
    "    current_time_for_creating_revision = datetime.datetime.utcnow().strftime(\"%d %B %Y %I:%M%p UTC\")\n",
    "    create_revision_response = dataexchange.create_revision(DataSetId=data_set_id,\n",
    "                                                     Comment='Revision created programmatically on ' + current_time_for_creating_revision)\n",
    "    revision_id = create_revision_response['Id']\n",
    "\n",
    "    # CREATE JOB under the revision to import file from S3 to DataExchange\n",
    "    create_job_s3_import = dataexchange.create_job(\n",
    "        Type='IMPORT_ASSETS_FROM_S3',\n",
    "        Details={\n",
    "            'ImportAssetsFromS3': {\n",
    "                'DataSetId': data_set_id,\n",
    "                'RevisionId': revision_id,\n",
    "                'AssetSources': [{'Bucket': bucket_name, 'Key': asset} for asset in assets]\n",
    "            }\n",
    "        }\n",
    "    )\n",
    "\n",
    "    # Filter the ID of the Job from the response\n",
    "    job_id = create_job_s3_import['Id']\n",
    "\n",
    "    # invoke START JOB on the created job to change it from Waiting to Completed state\n",
    "    start_created_job = dataexchange.start_job(JobId=job_id)\n",
    "\n",
    "    # GET JOB details to track the state of the job and wait until it reaches COMPLETED state\n",
    "    job_status = ''\n",
    "\n",
    "    while job_status != 'COMPLETED':\n",
    "        get_job_status = dataexchange.get_job(JobId=job_id)\n",
    "        job_status = get_job_status['State']\n",
    "        print('Job Status ' + job_status)\n",
    "        \n",
    "        if job_status=='ERROR' :\n",
    "            job_errors = get_job_status['Errors']\n",
    "            raise Exception('JobId: {} failed with error:{}'.format(job_id, job_errors))\n",
    "        \n",
    "        time.sleep(.5)\n",
    "        \n",
    "    # Finalize revision by invoking UPDATE REVISION\n",
    "    current_time_for_finalize_revision = datetime.datetime.utcnow().strftime(\"%d %B %Y %I:%M%p UTC\")\n",
    "    print(current_time_for_finalize_revision)\n",
    "    finalize_revision = dataexchange.update_revision(DataSetId=data_set_id, RevisionId=revision_id, Finalized=True,\n",
    "                                              Comment='Revision finalized programmatically on ' + current_time_for_finalize_revision)\n",
    "    \n",
    "    print ('New dataset version created and finalized')\n",
    "\n",
    "    # New dataset version created and finalized, now let’s add it to an existing product specified as an env variable\n",
    "\n",
    "    # Describe Product details to get the metadata about the product\n",
    "    describe_entity = marketplace_catalog.describe_entity(Catalog='AWSMarketplace', EntityId=product_id)\n",
    "\n",
    "    # Use the output to pull out producttype, productid and datasetarn for startchangeset call\n",
    "    entity_type = describe_entity['EntityType']\n",
    "    entity_id = describe_entity['EntityIdentifier']\n",
    "    dataset_arn = ((json.loads(describe_entity['Details']))['DataSets'][0]['DataSetArn'])\n",
    "    revision_arn = create_revision_response['Arn']\n",
    " \n",
    "\n",
    "    # StartChangeSet to add the newly finalized revision to an existing product\n",
    "    start_change_set = marketplace_catalog.start_change_set(\n",
    "        Catalog='AWSMarketplace',\n",
    "        ChangeSetName=\"Adding revision to my Product\",\n",
    "        ChangeSet=[\n",
    "            {\n",
    "                \"ChangeType\": \"AddRevisions\",\n",
    "                \"Entity\": {\n",
    "                    \"Identifier\": entity_id,\n",
    "                    \"Type\": entity_type\n",
    "                },\n",
    "                \"Details\": json.dumps({\n",
    "                    \"DataSetArn\": dataset_arn,\n",
    "                    \"RevisionArns\": [revision_arn]\n",
    "                })\n",
    "            }\n",
    "        ]\n",
    "    )\n",
    "    \n",
    "    #Filter the changeset id from the response\n",
    "    changeset_id = start_change_set['ChangeSetId']\n",
    "\n",
    "    # DESCRIBE CHANGESET to get the status of the changeset and wait until it reaches SUCCEEDED state\n",
    "    change_set_status = ''\n",
    "\n",
    "    while change_set_status != 'SUCCEEDED':\n",
    "        describe_change_set = marketplace_catalog.describe_change_set(\n",
    "            Catalog='AWSMarketplace',\n",
    "            ChangeSetId=changeset_id\n",
    "            )\n",
    "        change_set_status = describe_change_set['Status']\n",
    "        print('Change Set Status ' + change_set_status)\n",
    "\n",
    "        if change_set_status=='FAILED' :\n",
    "            print(describe_change_set)\n",
    "            failurereason = describe_change_set['FailureDescription']\n",
    "            raise Exception('ChangeSetID: {} failed with error:\\n{}'.format(changeset_id, failurereason))\n",
    "        time.sleep(1)\n",
    "        \n",
    "    print('Your data has been published successfully')\n",
    "    return True"
   ]
  },
  {
   "cell_type": "code",
   "execution_count": 26,
   "metadata": {},
   "outputs": [
    {
     "name": "stdout",
     "output_type": "stream",
     "text": [
      "Job Status IN_PROGRESS\n",
      "Job Status IN_PROGRESS\n",
      "Job Status IN_PROGRESS\n",
      "Job Status IN_PROGRESS\n",
      "Job Status IN_PROGRESS\n",
      "Job Status IN_PROGRESS\n",
      "Job Status IN_PROGRESS\n",
      "Job Status IN_PROGRESS\n",
      "Job Status IN_PROGRESS\n",
      "Job Status IN_PROGRESS\n",
      "Job Status IN_PROGRESS\n",
      "Job Status IN_PROGRESS\n",
      "Job Status IN_PROGRESS\n",
      "Job Status IN_PROGRESS\n",
      "Job Status IN_PROGRESS\n",
      "Job Status IN_PROGRESS\n",
      "Job Status IN_PROGRESS\n",
      "Job Status IN_PROGRESS\n",
      "Job Status IN_PROGRESS\n",
      "Job Status COMPLETED\n",
      "24 May 2020 11:08PM UTC\n",
      "New dataset version created and finalized\n",
      "Change Set Status PREPARING\n",
      "Change Set Status PREPARING\n",
      "Change Set Status PREPARING\n",
      "Change Set Status PREPARING\n",
      "Change Set Status PREPARING\n",
      "Change Set Status APPLYING\n",
      "Change Set Status APPLYING\n",
      "Change Set Status APPLYING\n",
      "Change Set Status APPLYING\n",
      "Change Set Status APPLYING\n",
      "Change Set Status SUCCEEDED\n",
      "Your data has been published successfully\n"
     ]
    },
    {
     "data": {
      "text/plain": [
       "True"
      ]
     },
     "execution_count": 26,
     "metadata": {},
     "output_type": "execute_result"
    }
   ],
   "source": [
    "publish_to_dx(config)"
   ]
  },
  {
   "cell_type": "code",
   "execution_count": 27,
   "metadata": {},
   "outputs": [
    {
     "data": {
      "text/plain": [
       "{'data_set_id': 'f4257e11b4919ddfeef7f2526a870460',\n",
       " 'assets': ['trifacta/queryResults/admin@trifacta.local/CASE_DATA.csv',\n",
       "  'trifacta/queryResults/admin@trifacta.local/US_AGG.csv'],\n",
       " 'bucket': 'trifacta-covid-trifactabucket-q1itzd5kh96',\n",
       " 'product_id': 'prod-fpr76dnjiujpu'}"
      ]
     },
     "execution_count": 27,
     "metadata": {},
     "output_type": "execute_result"
    }
   ],
   "source": [
    "config"
   ]
  },
  {
   "cell_type": "code",
   "execution_count": 29,
   "metadata": {},
   "outputs": [
    {
     "data": {
      "text/plain": [
       "{'ResponseMetadata': {'RequestId': '96F692FCEE8D6A17',\n",
       "  'HostId': 'dzCYD+Qr5YYIE5mB2KWlV0nmbOrYu9J/hmktAlYLxX/SSNSGYys7iljKPQNjAFlV8+ZizOPvhd8=',\n",
       "  'HTTPStatusCode': 200,\n",
       "  'HTTPHeaders': {'x-amz-id-2': 'dzCYD+Qr5YYIE5mB2KWlV0nmbOrYu9J/hmktAlYLxX/SSNSGYys7iljKPQNjAFlV8+ZizOPvhd8=',\n",
       "   'x-amz-request-id': '96F692FCEE8D6A17',\n",
       "   'date': 'Sun, 24 May 2020 23:27:31 GMT',\n",
       "   'etag': '\"73f94729cd14f51de67eaeda3e9856ef\"',\n",
       "   'content-length': '0',\n",
       "   'server': 'AmazonS3'},\n",
       "  'RetryAttempts': 0},\n",
       " 'ETag': '\"73f94729cd14f51de67eaeda3e9856ef\"'}"
      ]
     },
     "execution_count": 29,
     "metadata": {},
     "output_type": "execute_result"
    }
   ],
   "source": [
    "s3.put_object(Body=json.dumps(config), Bucket='trifacta-covid-trifactabucket-q1itzd5kh96', Key='dx_job.json')"
   ]
  },
  {
   "cell_type": "code",
   "execution_count": 35,
   "metadata": {},
   "outputs": [],
   "source": [
    "sqs = boto3.client('sqs', region_name='us-west-2')\n",
    "queue_url = 'https://sqs.us-west-2.amazonaws.com/163305015547/dataexchange-publish'"
   ]
  },
  {
   "cell_type": "code",
   "execution_count": 37,
   "metadata": {},
   "outputs": [
    {
     "data": {
      "text/plain": [
       "{'MD5OfMessageBody': '8b803385021da7a42aeb4811513ac631',\n",
       " 'MessageId': 'b99c8f1e-42d4-4138-ae4d-20ecd0304ae6',\n",
       " 'ResponseMetadata': {'RequestId': '74327d55-64e4-55bf-afea-2a10a34091a0',\n",
       "  'HTTPStatusCode': 200,\n",
       "  'HTTPHeaders': {'x-amzn-requestid': '74327d55-64e4-55bf-afea-2a10a34091a0',\n",
       "   'date': 'Mon, 25 May 2020 13:17:24 GMT',\n",
       "   'content-type': 'text/xml',\n",
       "   'content-length': '378'},\n",
       "  'RetryAttempts': 0}}"
      ]
     },
     "execution_count": 37,
     "metadata": {},
     "output_type": "execute_result"
    }
   ],
   "source": [
    "sqs.send_message(QueueUrl=queue_url, MessageBody='first sqs message')"
   ]
  }
 ],
 "metadata": {
  "kernelspec": {
   "display_name": "Python 3",
   "language": "python",
   "name": "python3"
  },
  "language_info": {
   "codemirror_mode": {
    "name": "ipython",
    "version": 3
   },
   "file_extension": ".py",
   "mimetype": "text/x-python",
   "name": "python",
   "nbconvert_exporter": "python",
   "pygments_lexer": "ipython3",
   "version": "3.7.1"
  }
 },
 "nbformat": 4,
 "nbformat_minor": 2
}
